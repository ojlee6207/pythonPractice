{
  "nbformat": 4,
  "nbformat_minor": 0,
  "metadata": {
    "colab": {
      "provenance": [],
      "authorship_tag": "ABX9TyN7z6E7DEqiih+KUFbygKwq",
      "include_colab_link": true
    },
    "kernelspec": {
      "name": "python3",
      "display_name": "Python 3"
    },
    "language_info": {
      "name": "python"
    }
  },
  "cells": [
    {
      "cell_type": "markdown",
      "metadata": {
        "id": "view-in-github",
        "colab_type": "text"
      },
      "source": [
        "<a href=\"https://colab.research.google.com/github/ojlee6207/ojlee6207.github.io/blob/2025_python_data_lecture/8%EC%9D%BC%EC%B0%A8_set_function.ipynb\" target=\"_parent\"><img src=\"https://colab.research.google.com/assets/colab-badge.svg\" alt=\"Open In Colab\"/></a>"
      ]
    },
    {
      "cell_type": "markdown",
      "source": [
        "## Collection Data - set\n",
        "* set명 = {값1, 값2, ...}\n",
        "* set명 = set()"
      ],
      "metadata": {
        "id": "Mgvy_UBYGXC7"
      }
    },
    {
      "cell_type": "code",
      "execution_count": null,
      "metadata": {
        "id": "WZMe1LV2GULE"
      },
      "outputs": [],
      "source": [
        "a = {10, 20, 30}\n",
        "b = {20, 40}\n",
        "\n",
        "print(a&b) # 교집합\n",
        "print(a|b) # 합집합\n",
        "print(a-b) # 차집합\n",
        "print(b-a)\n",
        "\n",
        "a.add(40)\n",
        "print(a)\n",
        "a.update([50,60])\n",
        "print(a)\n",
        "a.remove(10)\n",
        "print(a)"
      ]
    },
    {
      "cell_type": "markdown",
      "source": [
        "## 사용자 정의 함수 (function definition)\n",
        "* def 키워드, 함수명, 콜론(:), 실행문으로 작성\n",
        "```\n",
        "def 함수명():\n",
        "  명령문\n",
        "  명령문\n",
        "함수명()\n",
        "```"
      ],
      "metadata": {
        "id": "sWBUt_bZJt-0"
      }
    },
    {
      "cell_type": "code",
      "source": [
        "# 함수 정의\n",
        "def userinfo():\n",
        "  print('송파구')\n",
        "  print('이오재')\n",
        "\n",
        "for i in range(5):\n",
        "# 함수 호출\n",
        "  userinfo()\n",
        "print()\n",
        "i=0\n",
        "while i<5:\n",
        "  userinfo()\n",
        "  i+=1"
      ],
      "metadata": {
        "id": "51tRTQ0dKJpi"
      },
      "execution_count": null,
      "outputs": []
    },
    {
      "cell_type": "code",
      "source": [
        "# 함수 인수 이용\n",
        "# 함수 정의\n",
        "def userInfo(address, name):\n",
        "  print(address)\n",
        "  print(name)\n",
        "\n",
        "# 함수 호출\n",
        "address = input(\"주소지 입력 >> \")\n",
        "name = input(\"이름 입력 >> \")\n",
        "\n",
        "for i in range(5):\n",
        "  userInfo(address, name)"
      ],
      "metadata": {
        "id": "0TPXhQDyLLJv"
      },
      "execution_count": null,
      "outputs": []
    },
    {
      "cell_type": "code",
      "source": [
        "# 계산기\n",
        "def calc(a,b,c):\n",
        "  r1 = a + b + c\n",
        "  r2 = r1/3\n",
        "  # print('합 ',r1)\n",
        "  # print('평균', r2)\n",
        "\n",
        "  return r1, r2\n",
        "\n",
        "x,y = calc(100,200,300)\n",
        "print(f'합 : {x}')\n",
        "print(f'평균 : {y:.0f}')"
      ],
      "metadata": {
        "colab": {
          "base_uri": "https://localhost:8080/"
        },
        "id": "9VA3P5hhNmst",
        "outputId": "40a9266a-ec6d-4d33-fc6f-6374fde1a765"
      },
      "execution_count": null,
      "outputs": [
        {
          "output_type": "stream",
          "name": "stdout",
          "text": [
            "합 : 600\n",
            "평균 : 200\n"
          ]
        }
      ]
    },
    {
      "cell_type": "code",
      "source": [
        "# m1 사용자로 입력 받아 구구단 출력 프로그램\n",
        "# 2~9 입력, 이외의 수는 \"입력 오류\"\n",
        "def gugudan(num):\n",
        "  if num>=2 and num <=9:\n",
        "    print(f'*** {num}단 ***')\n",
        "    for i in range(1,10):\n",
        "      result = num*(i)\n",
        "      print(f'{num} x {i} = {result}')\n",
        "  else:\n",
        "    print(\"출력 오류!!\")\n",
        "\n",
        "dan = int(input(\"출력을 원하는 단을 입력 >> \"))\n",
        "gugudan(dan)"
      ],
      "metadata": {
        "colab": {
          "base_uri": "https://localhost:8080/"
        },
        "id": "-8FXKWJ_PXuM",
        "outputId": "fc534957-c76b-4df7-cde6-697e8f23c4c9"
      },
      "execution_count": null,
      "outputs": [
        {
          "output_type": "stream",
          "name": "stdout",
          "text": [
            "출력을 원하는 단을 입력 >> 4\n",
            "*** 4단 ***\n",
            "4 x 1 = 4\n",
            "4 x 2 = 8\n",
            "4 x 3 = 12\n",
            "4 x 4 = 16\n",
            "4 x 5 = 20\n",
            "4 x 6 = 24\n",
            "4 x 7 = 28\n",
            "4 x 8 = 32\n",
            "4 x 9 = 36\n"
          ]
        }
      ]
    },
    {
      "cell_type": "code",
      "source": [
        "#m2 3개의 수를 입력 받아 가장 큰 수 구하기\n",
        "# list 사용해서 해 봄\n",
        "# def findMax():\n",
        "#   list = []\n",
        "#   for i in range(3):\n",
        "#     num = int(input(f'{i+1}번 숫자 입력 >> '))\n",
        "#     list.append(num)\n",
        "#   list.sort(reverse=True)\n",
        "#   result = list[0]\n",
        "#   return print(f'가장 큰 수 : {result}')\n",
        "# findMax()\n",
        "\n",
        "def findMax(a,b,c):\n",
        "  if a > b:\n",
        "    big = a\n",
        "  else:\n",
        "    big = b\n",
        "  if big < c:\n",
        "    big = c\n",
        "  return big\n",
        "\n",
        "in_a = int(input('첫번째 숫자 입력 >> '))\n",
        "in_b = int(input('두번째 숫자 입력 >> '))\n",
        "in_c = int(input('세번째 숫자 입력 >> '))\n",
        "\n",
        "rbig = findMax(in_a,in_b,in_c)\n",
        "print('가장 큰 수는', rbig)"
      ],
      "metadata": {
        "colab": {
          "base_uri": "https://localhost:8080/"
        },
        "id": "j3j5214uSaBI",
        "outputId": "18d75530-0774-435a-fa72-27d239922261"
      },
      "execution_count": null,
      "outputs": [
        {
          "output_type": "stream",
          "name": "stdout",
          "text": [
            "첫번째 숫자 입력 >> 20\n",
            "두번째 숫자 입력 >> 40\n",
            "세번째 숫자 입력 >> 5\n",
            "가장 큰 수는 40\n"
          ]
        }
      ]
    },
    {
      "cell_type": "code",
      "source": [
        "# 반지름 입력 받아 원의 둘레 넓이 출력\n",
        "# def circle_round(r):\n",
        "#   round = 2*r*pi\n",
        "#   return round\n",
        "\n",
        "# def circle_size(r):\n",
        "#   size = pi*r*r\n",
        "#   return size\n",
        "def circle(r):\n",
        "  round = 2*r*pi\n",
        "  size = pi*r*r\n",
        "  return round, size\n",
        "\n",
        "pi = 3.14\n",
        "radius = int(input('원의 반지름 입력 : '))\n",
        "\n",
        "# round_ans = circle_round(radius)\n",
        "# size_ans = circle_size(radius)\n",
        "round_ans, size_ans = circle(radius)\n",
        "\n",
        "print(f'원의 둘레 : {round_ans}')\n",
        "print(f'원의 넓이 : {size_ans:.2f}')\n",
        "# print(\"넓이 : %.2f\" % size_ans)"
      ],
      "metadata": {
        "colab": {
          "base_uri": "https://localhost:8080/"
        },
        "id": "wrQ7EgzmVIwl",
        "outputId": "1399f51a-a655-44b8-c3bf-2b125620bcc1"
      },
      "execution_count": null,
      "outputs": [
        {
          "output_type": "stream",
          "name": "stdout",
          "text": [
            "원의 반지름 입력 : 12\n",
            "원의 둘레 : 75.36\n",
            "원의 넓이 : 452.16\n",
            "넓이 : 452.16\n"
          ]
        }
      ]
    },
    {
      "cell_type": "markdown",
      "source": [
        "## 모듈 사용법\n",
        "\n",
        "\n",
        "```\n",
        "<!-- 1 import -->\n",
        "import math\n",
        "math.sqrt(4.0)\n",
        "\n",
        "<!-- # 2 import 모듈 as 별칭 -->\n",
        "import math as m\n",
        "m.sqrt(4.0)\n",
        "\n",
        "<!-- # 3 from 모듈 import 함수1, 함수2, ... -->\n",
        "from math import pi, sqrt\n",
        "\n",
        "<!-- # 4 from 모듈 import *(전체) - 메모리 사용으로 인해 프로그램 사용량이 높아질 가능성 -->\n",
        "from math import *\n",
        "```\n",
        "\n"
      ],
      "metadata": {
        "id": "yyTEArfMcuHv"
      }
    },
    {
      "cell_type": "code",
      "source": [
        "# 영어단어 5문제 출제 프로그램\n",
        "# 딕셔너리에 영어단어, 뜻 10개 입력\n",
        "# 0 입력 시 문제수와 상관없이 종료\n",
        "# 문제는 중복 X 무작위\n",
        "# eng_question 사용자 정의 함수\n",
        "\n",
        "word_data = {'friend':'친구','apple':'사과', 'book':'책', 'dog':'개','happy':'행복','cat':'고양이'}\n",
        "\n",
        "def eng_question():\n",
        "  import random\n",
        "  correct = 0\n",
        "  totQ = 0\n",
        "\n",
        "  while True:\n",
        "    word = random.choice(list(word_data.keys()))\n",
        "    totQ += 1\n",
        "    guess = input(f'다음 단어의 뜻은 무엇일까요? : {word} >> ')\n",
        "    if guess == word_data[word]:\n",
        "      print('정답')\n",
        "      correct += 1\n",
        "    else:\n",
        "      print('오답')\n",
        "      print(word_data[word])\n",
        "\n",
        "    quit = input(\"계속하시겠습니까?(종료:N)\")\n",
        "    if quit == \"N\":\n",
        "      break\n",
        "  print(f'문제 수 : {totQ}, 정답 수: : {correct}')\n",
        "\n",
        "def addWord():\n",
        "  eng_word = input('영단어 입력 >> ')\n",
        "  kor_word = input('한글 뜻 입력 >> ')\n",
        "  word_data[eng_word] = kor_word\n",
        "  print(word_data)\n",
        "\n",
        "# 함수 호출\n",
        "menu = int(input(\"1. 단어 추가, 2. 퀴즈 >> \"))\n",
        "\n",
        "if menu == 1:\n",
        "  addWord()\n",
        "elif menu == 2:\n",
        "  eng_question()\n",
        "else:\n",
        "  print(\"없는 메뉴 입니다.\")"
      ],
      "metadata": {
        "colab": {
          "base_uri": "https://localhost:8080/"
        },
        "id": "H_RDeeV5c-KQ",
        "outputId": "83e5c5b1-010d-4dc1-8a9f-e81fe31c3e55"
      },
      "execution_count": null,
      "outputs": [
        {
          "output_type": "stream",
          "name": "stdout",
          "text": [
            "1. 단어 추가, 2. 퀴즈 >> 1\n",
            "영단어 입력 >> good\n",
            "한글 뜻 입력 >> 좋은\n",
            "{'friend': '친구', 'apple': '사과', 'book': '책', 'dog': '개', 'happy': '행복', 'cat': '고양이', 'good': '좋은'}\n"
          ]
        }
      ]
    },
    {
      "cell_type": "code",
      "source": [
        "# 구구단 게임\n",
        "# 임의의 구구단 랜덤 생성 후 플레이어에게 정해진 시간 안에 맞히기\n",
        "import random\n",
        "import time\n",
        "\n",
        "def gugudan(count):\n",
        "  c_count = 0\n",
        "  for i in range(count):\n",
        "    num1 = random.randrange(2,10)\n",
        "    num2 = random.randrange(1,10)\n",
        "    correct = num1*num2\n",
        "    print(f'{num1} X {num2} ?')\n",
        "    start_time = time.time()\n",
        "    answer = int(input(\" >> \"))\n",
        "    end_time = time.time()\n",
        "    second = end_time-start_time\n",
        "    if second > 3:\n",
        "      print(\"시간 초과입니다. 틀렸습니다.\")\n",
        "    else:\n",
        "      print(f\"{end_time-start_time:.2f}초 소요했습니다.\")\n",
        "      if answer == correct:\n",
        "        print(\"맞았습니다\")\n",
        "        c_count += 1\n",
        "      else:\n",
        "        print(\"틀렸습니다\")\n",
        "  return c_count\n",
        "\n",
        "count = int(input(\"몇번 할 까요? >> \"))\n",
        "r_correct = gugudan(count)\n",
        "print(f'{count}번 중 {r_correct}번 맞았습니다.')"
      ],
      "metadata": {
        "colab": {
          "base_uri": "https://localhost:8080/"
        },
        "id": "6MKCgOdnmTIE",
        "outputId": "e573ff64-6f48-4080-cd0b-da1f7a669e14"
      },
      "execution_count": null,
      "outputs": [
        {
          "output_type": "stream",
          "name": "stdout",
          "text": [
            "몇번 할 까요? >> 4\n",
            "4 X 1 ?\n",
            " >> 8\n",
            "시간 초과입니다. 틀렸습니다.\n",
            "3 X 2 ?\n",
            " >> 6\n",
            "1.89초 소요했습니다.\n",
            "맞았습니다\n",
            "3 X 4 ?\n",
            " >> 12\n",
            "1.53초 소요했습니다.\n",
            "맞았습니다\n",
            "9 X 9 ?\n",
            " >> 81\n",
            "시간 초과입니다. 틀렸습니다.\n",
            "4번 중 2번 맞았습니다.\n"
          ]
        }
      ]
    },
    {
      "cell_type": "code",
      "source": [
        "import time\n",
        "print(time.time())"
      ],
      "metadata": {
        "colab": {
          "base_uri": "https://localhost:8080/"
        },
        "id": "hhwl4T-Kqwtn",
        "outputId": "6c4c3212-cc39-4d01-99f2-94d60b5e54b3"
      },
      "execution_count": null,
      "outputs": [
        {
          "output_type": "stream",
          "name": "stdout",
          "text": [
            "1736738450.2213545\n"
          ]
        }
      ]
    }
  ]
}