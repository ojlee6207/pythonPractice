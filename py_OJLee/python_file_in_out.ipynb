{
 "cells": [
  {
   "cell_type": "markdown",
   "metadata": {
    "id": "8YG9TItflWbv"
   },
   "source": [
    "# **파일 사용(파일 읽기/쓰기)**"
   ]
  },
  {
   "cell_type": "markdown",
   "metadata": {
    "id": "w8LqTUjYfwJJ"
   },
   "source": [
    "* 열기 : open()을 통해 파일 이름이 포함된 파일 위치 지정하기\n",
    "* 읽기 : 파일을 읽기(r)만 할 때 사용\n",
    "* 닫기 : close()를 통해 모든 작업을 끝내고 파일을 정상적으로 닫기"
   ]
  },
  {
   "cell_type": "markdown",
   "metadata": {
    "id": "I0-0aYyNmS4Y"
   },
   "source": [
    "### **1. 파일 열기**\n",
    "  - 파일을 열다.\n",
    "  - 파일에서 데이터를 읽거나 쓸 수 있다.\n",
    "  - 파일과 관련된 작업이 모두 종료되면 파일을 닫아야 한다.\n",
    "```\n",
    "infile = open(\"input.txt\",\"r\")\n",
    ".....\n",
    "infile.close()\n",
    "```\n",
    "   ※ 파일객체.close()  \n",
    "```\n",
    "...   파일객체 = open(파일이름, 파일모드)\n",
    "...   \n",
    "...   with open(파일이름, 파일모드) as 파일객체:       # with as를 사용하면 파일을 사용한 뒤 자동으로 파일객체를 닫아줌\n",
    "...        코드\n",
    "```\n",
    "  - 경로이름과 파일이름 : 접근하는 파일이 저장된 폴더, 상대 경로 또는 절대 경로\n",
    "  - 파일모드\n",
    "    - \"r\" - 읽기모드, 파일의 처음부터 읽는다(기본 모드). 기존 파일이 없으면 에러 메세지가 나타난다.\n",
    "    - \"w\" - 쓰기모드, 파일의 처음부터 쓴다. 파일이 없으면 생성된다. 만약 파일이 존재하면 기존의 내용은 지워진다.\n",
    "    - \"a\" - 추가모드, 파일의 끝에 쓴다. 파일이 없으면 생성된다.\n",
    "    - \"r+\" - 읽기와 쓰기 모드, 파일에 읽고 쓸수 있는 모드이다. 모드를 변경하려면 seek()가 호출되어야 한다.\n",
    "\n",
    "\n"
   ]
  },
  {
   "cell_type": "markdown",
   "metadata": {
    "id": "0YxhzbRNRvfp"
   },
   "source": [
    "* 메모장으로 다음과 같은 텍스트 파일을 작성해보세요.(phones.txt)\n",
    "```\n",
    "홍길동\t010-1234-5678\n",
    "김철수\t010-1234-5679\n",
    "김영희\t010-1234-5680\n",
    "```"
   ]
  },
  {
   "cell_type": "markdown",
   "metadata": {
    "id": "uTQiOSdBy16S"
   },
   "source": [
    "### **2. 파일 읽기**\n",
    "  - 파일객체.read() : 파일의 현재 위치로부터 파일의 끝까지 읽어서 하나의 큰 문자열로 반환\n",
    "  - 파일객체.read(n) : 파일의 현재 위치로부터 n 바이트를 읽는다. 남아 있는 문자수가 n보다 적으면 파일의 끝까지 읽는다.\n",
    "  - 파일객체.readline() : 파일의 현재 위치로부터 라인의 끝까지 읽는다.\n",
    "  - 파일객체.readlines() : 파일의 현재 위치로부터 파일의 끝까지 읽어서 라인들의 리스트를 반환한다."
   ]
  },
  {
   "cell_type": "markdown",
   "metadata": {
    "id": "CraLFuKqUGAx"
   },
   "source": [
    "* **변수 = 파일객체.read()**\n",
    "   - 파일의 전체 내용(모든 라인)을 하나의 큰 문자열로 반환\n"
   ]
  },
  {
   "cell_type": "code",
   "execution_count": 6,
   "metadata": {
    "id": "GX-tWmp0D7np"
   },
   "outputs": [
    {
     "name": "stdout",
     "output_type": "stream",
     "text": [
      "홍길동\t010-1234-5678\n",
      "김철수\t010-1234-5679\n",
      "김영희\t010-1234-5680\n",
      "\n",
      "['홍길동', '010-1234-5678\\n김철수', '010-1234-5679\\n김영희', '010-1234-5680']\n"
     ]
    }
   ],
   "source": [
    "# phones.txt 읽기(1)\n",
    "infile = open('phones.txt', 'r', encoding='utf8')\n",
    "lines = infile.read()\n",
    "print(lines)\n",
    "\n",
    "print()\n",
    "\n",
    "line_list = lines.split('\\n')\n",
    "print(line_list)\n",
    "\n",
    "infile.close()"
   ]
  },
  {
   "cell_type": "markdown",
   "metadata": {
    "id": "5xBxidJhzcFo"
   },
   "source": [
    "* **변수 = 파일객체.read(n)**\n",
    "  - 파일로부터 n 바이트를 읽음\n",
    "  - 포인터가 n 바이트만큼 이동해서 다음에 읽을 데이터의 시작 위치를 가리킴\n",
    "  - 파일의 끝에 도달하면 빈 문자열이 반환됨"
   ]
  },
  {
   "cell_type": "code",
   "execution_count": 9,
   "metadata": {},
   "outputs": [
    {
     "name": "stdout",
     "output_type": "stream",
     "text": [
      "홍길동\n",
      "\t010-1234-5678\n",
      "\n",
      "010-1234-5678\n"
     ]
    }
   ],
   "source": [
    "infile = open('phones.txt', 'r', encoding='utf8')\n",
    "lines = infile.read(3)\n",
    "print(lines)\n",
    "text = infile.read(15)\n",
    "print(text.strip())"
   ]
  },
  {
   "cell_type": "markdown",
   "metadata": {
    "id": "_Nj-fqUazCbJ"
   },
   "source": [
    "* **변수 = 파일객체.readline()**\n",
    "    - 한 번에 한 라인씩 반환\n",
    "    - 라인의 맨 마지막에 ‘\\n’이 포함된 문자열이 반환됨"
   ]
  },
  {
   "cell_type": "code",
   "execution_count": 11,
   "metadata": {},
   "outputs": [
    {
     "name": "stdout",
     "output_type": "stream",
     "text": [
      "홍길동\t010-1234-5678\n",
      "\n",
      "김철수\t010-1234-5679\n",
      "\n"
     ]
    }
   ],
   "source": [
    "infile = open('phones.txt', 'r', encoding='utf8')\n",
    "lines = infile.readline()\n",
    "print(lines)\n",
    "lines = infile.readline()\n",
    "print(lines)"
   ]
  },
  {
   "cell_type": "markdown",
   "metadata": {
    "id": "mpgocu5q2PpA"
   },
   "source": [
    "* for 문  \n",
    "  - 파일의 끝에 도달했음을 알려주는 조건식을 테스트하지 않고도 파일로부터 한 라인씩 자동적으로 읽음\n",
    "```\n",
    "for 루프변수 in 파일객체:\n",
    "... 문장1\n",
    "... 문장2\n",
    "... ...\n",
    "... 문장n\n",
    "```\n",
    "\n"
   ]
  },
  {
   "cell_type": "code",
   "execution_count": 12,
   "metadata": {},
   "outputs": [
    {
     "name": "stdout",
     "output_type": "stream",
     "text": [
      "홍길동\t010-1234-5678\n",
      "\n",
      "김철수\t010-1234-5679\n",
      "\n",
      "김영희\t010-1234-5680\n"
     ]
    }
   ],
   "source": [
    "infile = open('phones.txt', 'r', encoding='utf8')\n",
    "line = infile.readline()\n",
    "i = 1\n",
    "while line != \"\":\n",
    "    print(line)\n",
    "    line = infile.readline()\n"
   ]
  },
  {
   "cell_type": "markdown",
   "metadata": {
    "id": "8XwHvhpazIo5"
   },
   "source": [
    "* **변수 = 파일객체.readlines()**\n",
    "    - 파일의 모든 라인들을 한 개의 리스트로 읽어들임\n",
    "    - 각 라인이 리스트의 한 원소\n",
    "    - 각 라인의 맨 끝에는 ‘\\n’이 포함됨"
   ]
  },
  {
   "cell_type": "code",
   "execution_count": 13,
   "metadata": {},
   "outputs": [
    {
     "name": "stdout",
     "output_type": "stream",
     "text": [
      "홍길동\t010-1234-5678\n",
      "\n",
      "김철수\t010-1234-5679\n",
      "\n",
      "김영희\t010-1234-5680\n"
     ]
    }
   ],
   "source": [
    "infile = open('phones.txt', 'r', encoding='utf8')\n",
    "for line in infile:\n",
    "    print(line)"
   ]
  },
  {
   "cell_type": "code",
   "execution_count": 14,
   "metadata": {},
   "outputs": [
    {
     "name": "stdout",
     "output_type": "stream",
     "text": [
      "['홍길동\\t010-1234-5678\\n', '김철수\\t010-1234-5679\\n', '김영희\\t010-1234-5680']\n"
     ]
    }
   ],
   "source": [
    "infile = open('phones.txt', 'r', encoding='utf8')\n",
    "lines = infile.readlines()\n",
    "print(lines)\n"
   ]
  },
  {
   "cell_type": "markdown",
   "metadata": {
    "id": "uTiyNYJrpR12"
   },
   "source": [
    "**[실습] 파일(words.txt)에서 10자 이하인 단어 개수 세기**"
   ]
  },
  {
   "cell_type": "markdown",
   "metadata": {
    "id": "ZF-eXimfRFw7"
   },
   "source": [
    "* 메모장으로 다음과 같은 텍스트 파일을 작성해보세요.(words.txt)\n",
    "```\n",
    "anonymously\n",
    "compatibility\n",
    "dashboard\n",
    "experience\n",
    "photography\n",
    "spotlight\n",
    "warehouse\n",
    "```\n",
    "* [실행결과]<br>\n",
    "dashboard<br>\n",
    "experience<br>\n",
    "spotlight<br>\n",
    "warehouse<br>\n",
    "4\n"
   ]
  },
  {
   "cell_type": "code",
   "execution_count": 16,
   "metadata": {},
   "outputs": [
    {
     "name": "stdout",
     "output_type": "stream",
     "text": [
      "dashboard\n",
      "experience\n",
      "spotlight\n",
      "warehouse\n",
      "4\n"
     ]
    }
   ],
   "source": [
    "with open('words.txt') as file:\n",
    "    words = file.readlines()\n",
    "    \n",
    "count = 0\n",
    "for word in words:\n",
    "    if len(word.strip()) <= 10:\n",
    "        print(word.strip())\n",
    "        count +=1\n",
    "print(count)\n"
   ]
  },
  {
   "cell_type": "markdown",
   "metadata": {
    "id": "B5NaXvlk4yL8"
   },
   "source": [
    "**[실습] scores.txt 파일로부터 성적을 읽어서 평균을 계산**"
   ]
  },
  {
   "cell_type": "markdown",
   "metadata": {
    "id": "9bM20cpK5HKp"
   },
   "source": [
    "* scores.txt 파일 내용\n",
    "```\n",
    "74\n",
    "87\n",
    "93\n",
    "68\n",
    "81\n",
    "```\n",
    "[실행결과] <br>\n",
    "평균 : 80.6<br>\n",
    "정렬 전 성적     :  [74, 87, 93, 68, 81]<br>\n",
    "내림정렬 후 성적 :  [93, 87, 81, 74, 68]<br>"
   ]
  },
  {
   "cell_type": "markdown",
   "metadata": {
    "id": "5vSl-L7BzjKR"
   },
   "source": [
    "### 3. **파일 출력**"
   ]
  },
  {
   "cell_type": "markdown",
   "metadata": {
    "id": "S-i2W0e2zpi2"
   },
   "source": [
    "* 파일 접근 모드 : ‘w’\n",
    "```\n",
    "outfile = open(\"output.txt\",\"w\")\n",
    "```\n",
    "* write() 함수(메소드)를 사용하여 문자열을 파일에 출력\n",
    "* 정수 또는 실수는 파일에 쓰기 전에 str 내장 함수를 적용하여 문자열로 변환\n",
    "* 파일개체.write(문자열)\n",
    "  - 문자열을 파일에 기록한다.\n",
    "  - 문자열 끝에 자동적으로 줄바꿈 문자를 추가하지 않는다.\n",
    "* 파일개체.writelines(리스트)\n",
    "  - 리스트의 각 원소를 파일에 기록한다.\n",
    "  - 각 원소 다음에 줄바꿈 문자를 추가하지 않는다.\n",
    "  - 리스트의 원소들이 숫자이면 str( ) 함수를 적용하여 문자열로 변환한 후 파일에 쓰기를 해야한다.\n",
    "\n"
   ]
  },
  {
   "cell_type": "markdown",
   "metadata": {
    "id": "9F4RcIUk6FzT"
   },
   "source": [
    "* 파일 오류 처리\n",
    "  - 방법 1 : os.path.exists(파일명), os.path.isfile(파일명) 형식을 사용\n",
    "  - 방법 2 : 예외처리 구문(try~except) 사용"
   ]
  },
  {
   "cell_type": "markdown",
   "metadata": {
    "id": "McbcGV0kAcEN"
   },
   "source": [
    "**[실습] 사용자로부터 MT장소를 입력받아 딕셔너리 자료형에 저장한 후 투표 결과를 화면에 출력하고 파일(vote.txt)에 저장해 보세요.**\n",
    "* vote={\"가평\":0, \"대성리\":0,\"남이섬\":0,\"청평\":0}\n",
    "* 딕셔너리에 없는 장소를 입력하면 종료됨\n",
    "\n",
    "\n",
    "\n",
    "```\n",
    "[실행결과]\n",
    "{'가평': 0, '대성리': 0, '남이섬': 0, '청평': 0}\n",
    "Best MT Spot\n",
    "장소는 >> 대성리 [Enter]  \n",
    "장소는 >> 대성리 [Enter]\n",
    "장소는 >> 과천 [Enter]\n",
    "{'가평': 0, '대성리': 2, '남이섬': 0, '청평': 0}\n",
    "\n",
    "vote.txt에 저장되었습니다.\n",
    "```\n",
    "\n"
   ]
  },
  {
   "cell_type": "markdown",
   "metadata": {
    "id": "YffGG-TY--AS"
   },
   "source": [
    "**[실습] 리스트를 파일로 저장해 보세요**\n",
    "```\n",
    "scores=['김소영 82 80 93 97 93 88',\n",
    "        '정예린 86 100 93 86 90 77',\n",
    "        '이세영 91 88 99 79 92 68',\n",
    "        '정수정 86 100 93 89 90 92',\n",
    "        '박지수 80 100 95 89 90 84']\n",
    "```\n",
    "* 저장 파일이름 : scores.txt"
   ]
  },
  {
   "cell_type": "code",
   "execution_count": 18,
   "metadata": {
    "id": "6NAk57Hl-5Md"
   },
   "outputs": [
    {
     "name": "stdout",
     "output_type": "stream",
     "text": [
      "김소영 82 80 93 97 93 88\n",
      "정예린 86 100 93 86 90 77\n",
      "이세영 91 88 99 79 92 68\n",
      "정수정 86 100 93 89 90 92\n",
      "박지수 80 100 95 89 90 84\n",
      "\n"
     ]
    }
   ],
   "source": [
    "scores=['김소영 82 80 93 97 93 88',\n",
    "        '정예린 86 100 93 86 90 77',\n",
    "        '이세영 91 88 99 79 92 68',\n",
    "        '정수정 86 100 93 89 90 92',\n",
    "        '박지수 80 100 95 89 90 84']\n",
    "\n",
    "data = \"\"\n",
    "for item in scores:\n",
    "    data = data + item + '\\n'\n",
    "\n",
    "print(data)\n",
    "\n",
    "file = open('score.txt', 'w', encoding='utf8')\n",
    "file.write(data)\n",
    "file.close()"
   ]
  },
  {
   "cell_type": "markdown",
   "metadata": {
    "id": "7FlOcPs5If08"
   },
   "source": [
    "**[실습] scores.txt 파일에서 성적 데이터를 읽어서 합계와 평균을 구하는 프로그램을 작성하세요.**\n",
    "\n",
    "```\n",
    "--------------------------------------------------\n",
    "김소영\n",
    "합계 : 533, 평균 : 106.60\n",
    "--------------------------------------------------\n",
    "정예린\n",
    "합계 : 532, 평균 : 106.40\n",
    "--------------------------------------------------\n",
    "이세영\n",
    "합계 : 517, 평균 : 103.40\n",
    "--------------------------------------------------\n",
    "정수정\n",
    "합계 : 550, 평균 : 110.00\n",
    "--------------------------------------------------\n",
    "박지수\n",
    "합계 : 538, 평균 : 107.60\n",
    "--------------------------------------------------\n",
    "```\n",
    "\n"
   ]
  },
  {
   "cell_type": "code",
   "execution_count": 23,
   "metadata": {},
   "outputs": [
    {
     "name": "stdout",
     "output_type": "stream",
     "text": [
      "김소영\n",
      "합계 = 533, 평균 = 88.8\n",
      "==================================================\n",
      "정예린\n",
      "합계 = 532, 평균 = 88.7\n",
      "==================================================\n",
      "이세영\n",
      "합계 = 517, 평균 = 86.2\n",
      "==================================================\n",
      "정수정\n",
      "합계 = 550, 평균 = 91.7\n",
      "==================================================\n",
      "박지수\n",
      "합계 = 538, 평균 = 89.7\n",
      "==================================================\n"
     ]
    }
   ],
   "source": [
    "infile = open('score.txt', 'r', encoding='utf8')\n",
    "line = infile.readlines()\n",
    "\n",
    "# print(line)\n",
    "for x in line:\n",
    "    student = x.split()\n",
    "    print(student[0])\n",
    "    sum = 0\n",
    "    # print(student)\n",
    "    for k in range(1,len(student)):\n",
    "        sum += int(student[k])\n",
    "    average = sum/(len(student)-1)\n",
    "    print(f'합계 = {sum}, 평균 = {average:.1f}')\n",
    "    print('='*50)"
   ]
  }
 ],
 "metadata": {
  "colab": {
   "provenance": [
    {
     "file_id": "1PKP8F0VxTAeaYhsTvTZKmUY4vBLw-tCK",
     "timestamp": 1736908930919
    },
    {
     "file_id": "1Y0A1cN9z_y53BJxtaQfiKCIRhJY_91Tj",
     "timestamp": 1710898143805
    },
    {
     "file_id": "1am_MiwPvk3etpPjlB6M5HI_giaawl4BP",
     "timestamp": 1657288646877
    }
   ]
  },
  "kernelspec": {
   "display_name": "Python 3",
   "name": "python3"
  },
  "language_info": {
   "codemirror_mode": {
    "name": "ipython",
    "version": 3
   },
   "file_extension": ".py",
   "mimetype": "text/x-python",
   "name": "python",
   "nbconvert_exporter": "python",
   "pygments_lexer": "ipython3",
   "version": "3.13.1"
  }
 },
 "nbformat": 4,
 "nbformat_minor": 0
}
