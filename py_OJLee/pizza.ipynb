{
 "cells": [
  {
   "cell_type": "code",
   "execution_count": null,
   "metadata": {},
   "outputs": [
    {
     "name": "stdout",
     "output_type": "stream",
     "text": [
      "페퍼로니 피자 (3000)원\n",
      "치즈 피자 (3200)원\n",
      "콤비네이션 피자 (3500)원\n",
      "불고기 피자 (3600)원\n",
      "해산물 피자 (3800)원\n",
      "{'페퍼로니 피자': 5}\n",
      "{'페퍼로니 피자': 5, '치즈 피자': 10}\n",
      "{'페퍼로니 피자': 5, '치즈 피자': 10, '콤비네이션 피자': 3}\n",
      "{'페퍼로니 피자': 5, '치즈 피자': 10, '콤비네이션 피자': 3}\n"
     ]
    }
   ],
   "source": [
    "pizza_menu = {'페퍼로니 피자':3000,\n",
    "                '치즈 피자':3200,\n",
    "                '콤비네이션 피자':3500,\n",
    "                '불고기 피자':3600,\n",
    "                '해산물 피자':3800}\n",
    "order = {}\n",
    "\n",
    "for name, price in pizza_menu.items():\n",
    "    print(f'{name} ({price})원')\n",
    "\n",
    "while True:\n",
    "    p_name = input('메뉴 이름 입력하세요(종료: exit)')\n",
    "    if p_name == '0':\n",
    "        pass\n",
    "    elif p_name in pizza_menu:\n",
    "        count = int(input('수량을 입력하세요: '))\n",
    "        order[p_name] = count\n",
    "        print(order)\n",
    "    elif p_name == 'exit':\n",
    "        print('피자 주문 완료!')\n",
    "        break\n",
    "\n",
    "print(order)"
   ]
  }
 ],
 "metadata": {
  "kernelspec": {
   "display_name": "Python 3",
   "language": "python",
   "name": "python3"
  },
  "language_info": {
   "codemirror_mode": {
    "name": "ipython",
    "version": 3
   },
   "file_extension": ".py",
   "mimetype": "text/x-python",
   "name": "python",
   "nbconvert_exporter": "python",
   "pygments_lexer": "ipython3",
   "version": "3.13.1"
  }
 },
 "nbformat": 4,
 "nbformat_minor": 2
}
