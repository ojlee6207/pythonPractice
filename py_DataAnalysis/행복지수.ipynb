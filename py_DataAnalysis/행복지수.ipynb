{
 "cells": [
  {
   "cell_type": "markdown",
   "metadata": {},
   "source": [
    "삶의만족도 happy_life\n",
    "건강 happy_health\n",
    "안전 happy_safe\n",
    "환경 happy_environ\n",
    "경제 happy_econo\n",
    "교육 happy_edu\n",
    "관계 happy_relation\n",
    "여가 happy_leisure\n",
    "==> happy_merge"
   ]
  },
  {
   "cell_type": "code",
   "execution_count": null,
   "metadata": {},
   "outputs": [],
   "source": [
    "%pip install openpyxl"
   ]
  },
  {
   "cell_type": "code",
   "execution_count": 10,
   "metadata": {},
   "outputs": [
    {
     "data": {
      "text/html": [
       "<div>\n",
       "<style scoped>\n",
       "    .dataframe tbody tr th:only-of-type {\n",
       "        vertical-align: middle;\n",
       "    }\n",
       "\n",
       "    .dataframe tbody tr th {\n",
       "        vertical-align: top;\n",
       "    }\n",
       "\n",
       "    .dataframe thead th {\n",
       "        text-align: right;\n",
       "    }\n",
       "</style>\n",
       "<table border=\"1\" class=\"dataframe\">\n",
       "  <thead>\n",
       "    <tr style=\"text-align: right;\">\n",
       "      <th></th>\n",
       "      <th>삶의 만족도</th>\n",
       "    </tr>\n",
       "    <tr>\n",
       "      <th>시도</th>\n",
       "      <th></th>\n",
       "    </tr>\n",
       "  </thead>\n",
       "  <tbody>\n",
       "    <tr>\n",
       "      <th>강원도</th>\n",
       "      <td>0.619506</td>\n",
       "    </tr>\n",
       "    <tr>\n",
       "      <th>경기도</th>\n",
       "      <td>0.426023</td>\n",
       "    </tr>\n",
       "    <tr>\n",
       "      <th>경상남도</th>\n",
       "      <td>0.530794</td>\n",
       "    </tr>\n",
       "    <tr>\n",
       "      <th>경상북도</th>\n",
       "      <td>0.502223</td>\n",
       "    </tr>\n",
       "    <tr>\n",
       "      <th>광주광역시</th>\n",
       "      <td>0.484480</td>\n",
       "    </tr>\n",
       "  </tbody>\n",
       "</table>\n",
       "</div>"
      ],
      "text/plain": [
       "         삶의 만족도\n",
       "시도             \n",
       "강원도    0.619506\n",
       "경기도    0.426023\n",
       "경상남도   0.530794\n",
       "경상북도   0.502223\n",
       "광주광역시  0.484480"
      ]
     },
     "execution_count": 10,
     "metadata": {},
     "output_type": "execute_result"
    }
   ],
   "source": [
    "import pandas as pd\n",
    "import os\n",
    "\n",
    "keywords = {'건강':'happy_health','안전':'happy_safe','환경':'happy_environ','경제':'happy_econo',\n",
    "            '교육':'happy_edu','관계':'happy_relation','여가':'happy_leisure','삶의만족도':'happy_life'}\n",
    "try:\n",
    "    path = 'data/day6_happy'\n",
    "    file_list = os.listdir(path)\n",
    "\n",
    "    for i in file_list:\n",
    "        if i.endswith('.xlsx'):\n",
    "            for x,y in keywords.items():\n",
    "                if x in i:\n",
    "                    keywords[x] = pd.read_excel(path+i, engine='openpyxl')\n",
    "\n",
    "                    health = keywords[x].groupby('시도')[['평균']].mean()\n",
    "\n",
    "                    happy_merge=pd.merge(happy_merge, health.rename(columns={'평균':x}), on='시도')\n",
    "\n",
    "except:\n",
    "    print(i)\n",
    "\n",
    "\n",
    "\n",
    "\n",
    "\n",
    "# happy_life = pd.read_excel('data/day6_happy/대한민국행복지도_삶의만족도.xlsx', engine='openpyxl')\n",
    "# life_merge = happy_life.groupby('시도')[['삶의 만족도']].mean()\n",
    "\n",
    "# happy_health = pd.read_excel('data/day6_happy/대한민국행복지도_건강.xlsx', engine='openpyxl')\n",
    "# health_mean = happy_health.groupby('시도')[['평균']].mean()\n",
    "\n",
    "# life_merge = pd.merge(life_merge, health_mean.rename(columns={'평균':'건강'},on='시도'))"
   ]
  }
 ],
 "metadata": {
  "kernelspec": {
   "display_name": "Python 3.13.1 64-bit",
   "language": "python",
   "name": "python3"
  },
  "language_info": {
   "codemirror_mode": {
    "name": "ipython",
    "version": 3
   },
   "file_extension": ".py",
   "mimetype": "text/x-python",
   "name": "python",
   "nbconvert_exporter": "python",
   "pygments_lexer": "ipython3",
   "version": "3.13.1"
  },
  "orig_nbformat": 4,
  "vscode": {
   "interpreter": {
    "hash": "a0208c58346b6c36df4939cd59db72ffd79b8ad2f194955e724a70b307362d75"
   }
  }
 },
 "nbformat": 4,
 "nbformat_minor": 2
}
