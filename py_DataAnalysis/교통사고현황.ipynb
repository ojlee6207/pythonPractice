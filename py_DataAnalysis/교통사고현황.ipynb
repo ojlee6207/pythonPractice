{
 "cells": [
  {
   "cell_type": "code",
   "execution_count": 4,
   "metadata": {},
   "outputs": [
    {
     "data": {
      "text/html": [
       "<div>\n",
       "<style scoped>\n",
       "    .dataframe tbody tr th:only-of-type {\n",
       "        vertical-align: middle;\n",
       "    }\n",
       "\n",
       "    .dataframe tbody tr th {\n",
       "        vertical-align: top;\n",
       "    }\n",
       "\n",
       "    .dataframe thead th {\n",
       "        text-align: right;\n",
       "    }\n",
       "</style>\n",
       "<table border=\"1\" class=\"dataframe\">\n",
       "  <thead>\n",
       "    <tr style=\"text-align: right;\">\n",
       "      <th></th>\n",
       "      <th>시도</th>\n",
       "      <th>시군구</th>\n",
       "      <th>사고건수</th>\n",
       "      <th>사망자수</th>\n",
       "      <th>중상자수</th>\n",
       "      <th>경상자수</th>\n",
       "      <th>부상신고자수</th>\n",
       "    </tr>\n",
       "  </thead>\n",
       "  <tbody>\n",
       "    <tr>\n",
       "      <th>0</th>\n",
       "      <td>서울</td>\n",
       "      <td>종로구</td>\n",
       "      <td>988</td>\n",
       "      <td>8</td>\n",
       "      <td>240</td>\n",
       "      <td>1009</td>\n",
       "      <td>82</td>\n",
       "    </tr>\n",
       "    <tr>\n",
       "      <th>1</th>\n",
       "      <td>서울</td>\n",
       "      <td>중구</td>\n",
       "      <td>931</td>\n",
       "      <td>3</td>\n",
       "      <td>217</td>\n",
       "      <td>877</td>\n",
       "      <td>100</td>\n",
       "    </tr>\n",
       "    <tr>\n",
       "      <th>2</th>\n",
       "      <td>서울</td>\n",
       "      <td>용산구</td>\n",
       "      <td>996</td>\n",
       "      <td>11</td>\n",
       "      <td>261</td>\n",
       "      <td>1077</td>\n",
       "      <td>28</td>\n",
       "    </tr>\n",
       "    <tr>\n",
       "      <th>3</th>\n",
       "      <td>서울</td>\n",
       "      <td>성동구</td>\n",
       "      <td>919</td>\n",
       "      <td>6</td>\n",
       "      <td>203</td>\n",
       "      <td>959</td>\n",
       "      <td>59</td>\n",
       "    </tr>\n",
       "    <tr>\n",
       "      <th>4</th>\n",
       "      <td>서울</td>\n",
       "      <td>동대문구</td>\n",
       "      <td>1674</td>\n",
       "      <td>10</td>\n",
       "      <td>424</td>\n",
       "      <td>1452</td>\n",
       "      <td>163</td>\n",
       "    </tr>\n",
       "  </tbody>\n",
       "</table>\n",
       "</div>"
      ],
      "text/plain": [
       "   시도   시군구  사고건수  사망자수  중상자수  경상자수  부상신고자수\n",
       "0  서울   종로구   988     8   240  1009      82\n",
       "1  서울    중구   931     3   217   877     100\n",
       "2  서울   용산구   996    11   261  1077      28\n",
       "3  서울   성동구   919     6   203   959      59\n",
       "4  서울  동대문구  1674    10   424  1452     163"
      ]
     },
     "execution_count": 4,
     "metadata": {},
     "output_type": "execute_result"
    }
   ],
   "source": [
    "import pandas as pd\n",
    "\n",
    "accData = pd.read_csv('data/day6Data/한국도로교통공단_시도 시군구별 교통사고 통계_20231231.csv', encoding='cp949')\n",
    "\n",
    "accData.head()"
   ]
  },
  {
   "cell_type": "markdown",
   "metadata": {},
   "source": [
    "# 시도 구군별 교통사고 데이터 확인하기"
   ]
  },
  {
   "cell_type": "code",
   "execution_count": 5,
   "metadata": {},
   "outputs": [
    {
     "name": "stdout",
     "output_type": "stream",
     "text": [
      "<class 'pandas.core.frame.DataFrame'>\n",
      "RangeIndex: 230 entries, 0 to 229\n",
      "Data columns (total 7 columns):\n",
      " #   Column  Non-Null Count  Dtype \n",
      "---  ------  --------------  ----- \n",
      " 0   시도      230 non-null    object\n",
      " 1   시군구     230 non-null    object\n",
      " 2   사고건수    230 non-null    int64 \n",
      " 3   사망자수    230 non-null    int64 \n",
      " 4   중상자수    230 non-null    int64 \n",
      " 5   경상자수    230 non-null    int64 \n",
      " 6   부상신고자수  230 non-null    int64 \n",
      "dtypes: int64(5), object(2)\n",
      "memory usage: 12.7+ KB\n"
     ]
    }
   ],
   "source": [
    "accData.info()"
   ]
  },
  {
   "cell_type": "markdown",
   "metadata": {},
   "source": [
    "1. 시도별 사망자수, 중상자수, 경상자수, 부상신고자수, 부상자수 평균"
   ]
  },
  {
   "cell_type": "code",
   "execution_count": 7,
   "metadata": {},
   "outputs": [
    {
     "data": {
      "text/plain": [
       "Index(['시도', '시군구', '사고건수', '사망자수', '중상자수', '경상자수', '부상신고자수'], dtype='object')"
      ]
     },
     "execution_count": 7,
     "metadata": {},
     "output_type": "execute_result"
    }
   ],
   "source": [
    "accData.columns"
   ]
  },
  {
   "cell_type": "code",
   "execution_count": 11,
   "metadata": {},
   "outputs": [
    {
     "data": {
      "text/html": [
       "<div>\n",
       "<style scoped>\n",
       "    .dataframe tbody tr th:only-of-type {\n",
       "        vertical-align: middle;\n",
       "    }\n",
       "\n",
       "    .dataframe tbody tr th {\n",
       "        vertical-align: top;\n",
       "    }\n",
       "\n",
       "    .dataframe thead th {\n",
       "        text-align: right;\n",
       "    }\n",
       "</style>\n",
       "<table border=\"1\" class=\"dataframe\">\n",
       "  <thead>\n",
       "    <tr style=\"text-align: right;\">\n",
       "      <th></th>\n",
       "      <th>시도</th>\n",
       "      <th>사고건수</th>\n",
       "      <th>사망자수</th>\n",
       "      <th>중상자수</th>\n",
       "      <th>경상자수</th>\n",
       "      <th>부상신고자수</th>\n",
       "    </tr>\n",
       "  </thead>\n",
       "  <tbody>\n",
       "    <tr>\n",
       "      <th>0</th>\n",
       "      <td>강원</td>\n",
       "      <td>337.722222</td>\n",
       "      <td>7.777778</td>\n",
       "      <td>105.777778</td>\n",
       "      <td>366.055556</td>\n",
       "      <td>47.833333</td>\n",
       "    </tr>\n",
       "    <tr>\n",
       "      <th>1</th>\n",
       "      <td>경기</td>\n",
       "      <td>1714.967742</td>\n",
       "      <td>16.193548</td>\n",
       "      <td>410.451613</td>\n",
       "      <td>1910.322581</td>\n",
       "      <td>202.903226</td>\n",
       "    </tr>\n",
       "    <tr>\n",
       "      <th>2</th>\n",
       "      <td>경남</td>\n",
       "      <td>617.888889</td>\n",
       "      <td>13.166667</td>\n",
       "      <td>245.111111</td>\n",
       "      <td>554.555556</td>\n",
       "      <td>55.777778</td>\n",
       "    </tr>\n",
       "    <tr>\n",
       "      <th>3</th>\n",
       "      <td>경북</td>\n",
       "      <td>468.565217</td>\n",
       "      <td>11.434783</td>\n",
       "      <td>162.956522</td>\n",
       "      <td>471.913043</td>\n",
       "      <td>43.217391</td>\n",
       "    </tr>\n",
       "    <tr>\n",
       "      <th>4</th>\n",
       "      <td>광주</td>\n",
       "      <td>1394.400000</td>\n",
       "      <td>9.600000</td>\n",
       "      <td>218.800000</td>\n",
       "      <td>1781.200000</td>\n",
       "      <td>98.000000</td>\n",
       "    </tr>\n",
       "    <tr>\n",
       "      <th>5</th>\n",
       "      <td>대구</td>\n",
       "      <td>1208.888889</td>\n",
       "      <td>9.555556</td>\n",
       "      <td>298.333333</td>\n",
       "      <td>1285.333333</td>\n",
       "      <td>126.111111</td>\n",
       "    </tr>\n",
       "    <tr>\n",
       "      <th>6</th>\n",
       "      <td>대전</td>\n",
       "      <td>1479.600000</td>\n",
       "      <td>12.200000</td>\n",
       "      <td>311.800000</td>\n",
       "      <td>1740.600000</td>\n",
       "      <td>73.400000</td>\n",
       "    </tr>\n",
       "    <tr>\n",
       "      <th>7</th>\n",
       "      <td>부산</td>\n",
       "      <td>687.687500</td>\n",
       "      <td>6.437500</td>\n",
       "      <td>207.437500</td>\n",
       "      <td>670.562500</td>\n",
       "      <td>57.437500</td>\n",
       "    </tr>\n",
       "    <tr>\n",
       "      <th>8</th>\n",
       "      <td>서울</td>\n",
       "      <td>1352.440000</td>\n",
       "      <td>7.200000</td>\n",
       "      <td>312.360000</td>\n",
       "      <td>1362.600000</td>\n",
       "      <td>141.600000</td>\n",
       "    </tr>\n",
       "    <tr>\n",
       "      <th>9</th>\n",
       "      <td>세종</td>\n",
       "      <td>1166.000000</td>\n",
       "      <td>13.000000</td>\n",
       "      <td>316.000000</td>\n",
       "      <td>1026.000000</td>\n",
       "      <td>382.000000</td>\n",
       "    </tr>\n",
       "    <tr>\n",
       "      <th>10</th>\n",
       "      <td>울산</td>\n",
       "      <td>732.800000</td>\n",
       "      <td>8.000000</td>\n",
       "      <td>251.400000</td>\n",
       "      <td>695.000000</td>\n",
       "      <td>76.400000</td>\n",
       "    </tr>\n",
       "    <tr>\n",
       "      <th>11</th>\n",
       "      <td>인천</td>\n",
       "      <td>764.800000</td>\n",
       "      <td>8.300000</td>\n",
       "      <td>173.200000</td>\n",
       "      <td>821.500000</td>\n",
       "      <td>40.000000</td>\n",
       "    </tr>\n",
       "    <tr>\n",
       "      <th>12</th>\n",
       "      <td>전남</td>\n",
       "      <td>376.681818</td>\n",
       "      <td>10.318182</td>\n",
       "      <td>103.818182</td>\n",
       "      <td>444.590909</td>\n",
       "      <td>24.045455</td>\n",
       "    </tr>\n",
       "    <tr>\n",
       "      <th>13</th>\n",
       "      <td>전북</td>\n",
       "      <td>416.428571</td>\n",
       "      <td>12.214286</td>\n",
       "      <td>131.571429</td>\n",
       "      <td>458.000000</td>\n",
       "      <td>20.285714</td>\n",
       "    </tr>\n",
       "    <tr>\n",
       "      <th>14</th>\n",
       "      <td>제주</td>\n",
       "      <td>1975.000000</td>\n",
       "      <td>22.500000</td>\n",
       "      <td>569.000000</td>\n",
       "      <td>2069.000000</td>\n",
       "      <td>304.000000</td>\n",
       "    </tr>\n",
       "    <tr>\n",
       "      <th>15</th>\n",
       "      <td>충남</td>\n",
       "      <td>573.733333</td>\n",
       "      <td>13.200000</td>\n",
       "      <td>181.866667</td>\n",
       "      <td>599.933333</td>\n",
       "      <td>44.333333</td>\n",
       "    </tr>\n",
       "    <tr>\n",
       "      <th>16</th>\n",
       "      <td>충북</td>\n",
       "      <td>721.727273</td>\n",
       "      <td>14.000000</td>\n",
       "      <td>221.636364</td>\n",
       "      <td>809.727273</td>\n",
       "      <td>35.545455</td>\n",
       "    </tr>\n",
       "  </tbody>\n",
       "</table>\n",
       "</div>"
      ],
      "text/plain": [
       "    시도         사고건수       사망자수        중상자수         경상자수      부상신고자수\n",
       "0   강원   337.722222   7.777778  105.777778   366.055556   47.833333\n",
       "1   경기  1714.967742  16.193548  410.451613  1910.322581  202.903226\n",
       "2   경남   617.888889  13.166667  245.111111   554.555556   55.777778\n",
       "3   경북   468.565217  11.434783  162.956522   471.913043   43.217391\n",
       "4   광주  1394.400000   9.600000  218.800000  1781.200000   98.000000\n",
       "5   대구  1208.888889   9.555556  298.333333  1285.333333  126.111111\n",
       "6   대전  1479.600000  12.200000  311.800000  1740.600000   73.400000\n",
       "7   부산   687.687500   6.437500  207.437500   670.562500   57.437500\n",
       "8   서울  1352.440000   7.200000  312.360000  1362.600000  141.600000\n",
       "9   세종  1166.000000  13.000000  316.000000  1026.000000  382.000000\n",
       "10  울산   732.800000   8.000000  251.400000   695.000000   76.400000\n",
       "11  인천   764.800000   8.300000  173.200000   821.500000   40.000000\n",
       "12  전남   376.681818  10.318182  103.818182   444.590909   24.045455\n",
       "13  전북   416.428571  12.214286  131.571429   458.000000   20.285714\n",
       "14  제주  1975.000000  22.500000  569.000000  2069.000000  304.000000\n",
       "15  충남   573.733333  13.200000  181.866667   599.933333   44.333333\n",
       "16  충북   721.727273  14.000000  221.636364   809.727273   35.545455"
      ]
     },
     "execution_count": 11,
     "metadata": {},
     "output_type": "execute_result"
    }
   ],
   "source": [
    "sidomean = accData.groupby('시도', as_index=False)[['사고건수','사망자수', '중상자수', '경상자수', '부상신고자수']].mean()\n",
    "sidomean"
   ]
  },
  {
   "cell_type": "markdown",
   "metadata": {},
   "source": [
    "* 사고건수 평균 기준 상위 5위 도시에 대한 중상자수, 경상자수, 부상신고자수 평균"
   ]
  },
  {
   "cell_type": "code",
   "execution_count": 14,
   "metadata": {},
   "outputs": [
    {
     "data": {
      "text/html": [
       "<div>\n",
       "<style scoped>\n",
       "    .dataframe tbody tr th:only-of-type {\n",
       "        vertical-align: middle;\n",
       "    }\n",
       "\n",
       "    .dataframe tbody tr th {\n",
       "        vertical-align: top;\n",
       "    }\n",
       "\n",
       "    .dataframe thead th {\n",
       "        text-align: right;\n",
       "    }\n",
       "</style>\n",
       "<table border=\"1\" class=\"dataframe\">\n",
       "  <thead>\n",
       "    <tr style=\"text-align: right;\">\n",
       "      <th></th>\n",
       "      <th>시도</th>\n",
       "      <th>사고건수</th>\n",
       "      <th>사망자수</th>\n",
       "      <th>중상자수</th>\n",
       "      <th>경상자수</th>\n",
       "      <th>부상신고자수</th>\n",
       "    </tr>\n",
       "  </thead>\n",
       "  <tbody>\n",
       "    <tr>\n",
       "      <th>14</th>\n",
       "      <td>제주</td>\n",
       "      <td>1975.000000</td>\n",
       "      <td>22.500000</td>\n",
       "      <td>569.000000</td>\n",
       "      <td>2069.000000</td>\n",
       "      <td>304.000000</td>\n",
       "    </tr>\n",
       "    <tr>\n",
       "      <th>1</th>\n",
       "      <td>경기</td>\n",
       "      <td>1714.967742</td>\n",
       "      <td>16.193548</td>\n",
       "      <td>410.451613</td>\n",
       "      <td>1910.322581</td>\n",
       "      <td>202.903226</td>\n",
       "    </tr>\n",
       "    <tr>\n",
       "      <th>6</th>\n",
       "      <td>대전</td>\n",
       "      <td>1479.600000</td>\n",
       "      <td>12.200000</td>\n",
       "      <td>311.800000</td>\n",
       "      <td>1740.600000</td>\n",
       "      <td>73.400000</td>\n",
       "    </tr>\n",
       "    <tr>\n",
       "      <th>4</th>\n",
       "      <td>광주</td>\n",
       "      <td>1394.400000</td>\n",
       "      <td>9.600000</td>\n",
       "      <td>218.800000</td>\n",
       "      <td>1781.200000</td>\n",
       "      <td>98.000000</td>\n",
       "    </tr>\n",
       "    <tr>\n",
       "      <th>8</th>\n",
       "      <td>서울</td>\n",
       "      <td>1352.440000</td>\n",
       "      <td>7.200000</td>\n",
       "      <td>312.360000</td>\n",
       "      <td>1362.600000</td>\n",
       "      <td>141.600000</td>\n",
       "    </tr>\n",
       "  </tbody>\n",
       "</table>\n",
       "</div>"
      ],
      "text/plain": [
       "    시도         사고건수       사망자수        중상자수         경상자수      부상신고자수\n",
       "14  제주  1975.000000  22.500000  569.000000  2069.000000  304.000000\n",
       "1   경기  1714.967742  16.193548  410.451613  1910.322581  202.903226\n",
       "6   대전  1479.600000  12.200000  311.800000  1740.600000   73.400000\n",
       "4   광주  1394.400000   9.600000  218.800000  1781.200000   98.000000\n",
       "8   서울  1352.440000   7.200000  312.360000  1362.600000  141.600000"
      ]
     },
     "execution_count": 14,
     "metadata": {},
     "output_type": "execute_result"
    }
   ],
   "source": [
    "# 데이터 셋 설정\n",
    "# 차트 작성\n",
    "top5 = sidomean.sort_values('사고건수', ascending=False).head()\n",
    "top5"
   ]
  },
  {
   "cell_type": "code",
   "execution_count": 21,
   "metadata": {},
   "outputs": [
    {
     "data": {
      "image/png": "[encoded data removed]",
      "text/plain": [
       "<Figure size 640x480 with 1 Axes>"
      ]
     },
     "metadata": {},
     "output_type": "display_data"
    }
   ],
   "source": [
    "# 새로 막대 차트 비교\n",
    "import matplotlib.pyplot as plt\n",
    "import numpy as np      # 데이터가 많은것을 비교할떄 시용\n",
    "\n",
    "plt.rc('font',family='malgun gothic')\n",
    "\n",
    "pos = np.arange(len(top5['시도']))\n",
    "plt.bar(pos,top5['중상자수'], label='중상자수', width=0.25)\n",
    "plt.bar(pos+0.25,top5['경상자수'], label='경상자수', width=0.25)\n",
    "plt.bar(pos+0.5,top5['부상신고자수'], label='부상신고자수', width=0.25)\n",
    "\n",
    "# plt.barh(pos,top5['중상자수'], label='중상자수', height=0.25)\n",
    "\n",
    "plt.xticks(pos,top5['시도'])\n",
    "\n",
    "plt.legend()\n",
    "\n",
    "plt.show()"
   ]
  },
  {
   "cell_type": "code",
   "execution_count": 24,
   "metadata": {},
   "outputs": [
    {
     "data": {
      "text/plain": [
       "<Axes: xlabel='시도'>"
      ]
     },
     "execution_count": 24,
     "metadata": {},
     "output_type": "execute_result"
    },
    {
     "data": {
      "image/png": "[encoded data removed]",
      "text/plain": [
       "<Figure size 640x480 with 1 Axes>"
      ]
     },
     "metadata": {},
     "output_type": "display_data"
    }
   ],
   "source": [
    "# pandas 이용\n",
    "top5.plot(kind='bar', x='시도', rot=0, y=['중상자수','경상자수','부상신고자수'])"
   ]
  },
  {
   "cell_type": "markdown",
   "metadata": {},
   "source": [
    "* 사망자수 평균 비율이 가장 많은 도시"
   ]
  },
  {
   "cell_type": "code",
   "execution_count": 25,
   "metadata": {},
   "outputs": [
    {
     "data": {
      "text/html": [
       "<div>\n",
       "<style scoped>\n",
       "    .dataframe tbody tr th:only-of-type {\n",
       "        vertical-align: middle;\n",
       "    }\n",
       "\n",
       "    .dataframe tbody tr th {\n",
       "        vertical-align: top;\n",
       "    }\n",
       "\n",
       "    .dataframe thead th {\n",
       "        text-align: right;\n",
       "    }\n",
       "</style>\n",
       "<table border=\"1\" class=\"dataframe\">\n",
       "  <thead>\n",
       "    <tr style=\"text-align: right;\">\n",
       "      <th></th>\n",
       "      <th>시도</th>\n",
       "      <th>사고건수</th>\n",
       "      <th>사망자수</th>\n",
       "      <th>중상자수</th>\n",
       "      <th>경상자수</th>\n",
       "      <th>부상신고자수</th>\n",
       "    </tr>\n",
       "  </thead>\n",
       "  <tbody>\n",
       "    <tr>\n",
       "      <th>0</th>\n",
       "      <td>강원</td>\n",
       "      <td>337.722222</td>\n",
       "      <td>7.777778</td>\n",
       "      <td>105.777778</td>\n",
       "      <td>366.055556</td>\n",
       "      <td>47.833333</td>\n",
       "    </tr>\n",
       "    <tr>\n",
       "      <th>1</th>\n",
       "      <td>경기</td>\n",
       "      <td>1714.967742</td>\n",
       "      <td>16.193548</td>\n",
       "      <td>410.451613</td>\n",
       "      <td>1910.322581</td>\n",
       "      <td>202.903226</td>\n",
       "    </tr>\n",
       "    <tr>\n",
       "      <th>2</th>\n",
       "      <td>경남</td>\n",
       "      <td>617.888889</td>\n",
       "      <td>13.166667</td>\n",
       "      <td>245.111111</td>\n",
       "      <td>554.555556</td>\n",
       "      <td>55.777778</td>\n",
       "    </tr>\n",
       "    <tr>\n",
       "      <th>3</th>\n",
       "      <td>경북</td>\n",
       "      <td>468.565217</td>\n",
       "      <td>11.434783</td>\n",
       "      <td>162.956522</td>\n",
       "      <td>471.913043</td>\n",
       "      <td>43.217391</td>\n",
       "    </tr>\n",
       "    <tr>\n",
       "      <th>4</th>\n",
       "      <td>광주</td>\n",
       "      <td>1394.400000</td>\n",
       "      <td>9.600000</td>\n",
       "      <td>218.800000</td>\n",
       "      <td>1781.200000</td>\n",
       "      <td>98.000000</td>\n",
       "    </tr>\n",
       "  </tbody>\n",
       "</table>\n",
       "</div>"
      ],
      "text/plain": [
       "   시도         사고건수       사망자수        중상자수         경상자수      부상신고자수\n",
       "0  강원   337.722222   7.777778  105.777778   366.055556   47.833333\n",
       "1  경기  1714.967742  16.193548  410.451613  1910.322581  202.903226\n",
       "2  경남   617.888889  13.166667  245.111111   554.555556   55.777778\n",
       "3  경북   468.565217  11.434783  162.956522   471.913043   43.217391\n",
       "4  광주  1394.400000   9.600000  218.800000  1781.200000   98.000000"
      ]
     },
     "execution_count": 25,
     "metadata": {},
     "output_type": "execute_result"
    }
   ],
   "source": [
    "sidomean.head()"
   ]
  },
  {
   "cell_type": "code",
   "execution_count": 30,
   "metadata": {},
   "outputs": [
    {
     "data": {
      "image/png": "[encoded data removed]",
      "text/plain": [
       "<Figure size 640x480 with 1 Axes>"
      ]
     },
     "metadata": {},
     "output_type": "display_data"
    }
   ],
   "source": [
    "# exp = []\n",
    "plt.pie(sidomean['사망자수'], labels=sidomean['시도'], autopct = '%.2f%%')\n",
    "plt.show()"
   ]
  },
  {
   "cell_type": "code",
   "execution_count": 40,
   "metadata": {},
   "outputs": [
    {
     "data": {
      "image/png": "[encoded data removed]",
      "text/plain": [
       "<Figure size 640x480 with 1 Axes>"
      ]
     },
     "metadata": {},
     "output_type": "display_data"
    }
   ],
   "source": [
    "exp = [0,1,0,0,0,0]\n",
    "plt.pie(top5['중상자수'], labels=top5['시도'], autopct='%.2f%%', wedgeprops={'width':0.6, 'edgecolor':'w', 'linewidth':2});\n",
    "# explode"
   ]
  }
 ],
 "metadata": {
  "kernelspec": {
   "display_name": "Python 3.13.1 64-bit",
   "language": "python",
   "name": "python3"
  },
  "language_info": {
   "codemirror_mode": {
    "name": "ipython",
    "version": 3
   },
   "file_extension": ".py",
   "mimetype": "text/x-python",
   "name": "python",
   "nbconvert_exporter": "python",
   "pygments_lexer": "ipython3",
   "version": "3.13.1"
  },
  "orig_nbformat": 4,
  "vscode": {
   "interpreter": {
    "hash": "a0208c58346b6c36df4939cd59db72ffd79b8ad2f194955e724a70b307362d75"
   }
  }
 },
 "nbformat": 4,
 "nbformat_minor": 2
}
